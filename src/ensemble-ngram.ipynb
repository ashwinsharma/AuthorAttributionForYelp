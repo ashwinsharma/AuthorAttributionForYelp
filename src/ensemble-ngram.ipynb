{
 "cells": [
  {
   "cell_type": "code",
   "execution_count": 53,
   "metadata": {},
   "outputs": [],
   "source": [
    "import os\n",
    "import json\n",
    "import codecs\n",
    "import operator\n",
    "import re\n",
    "import string\n",
    "import argparse\n",
    "import numpy as np\n",
    "from collections import defaultdict\n",
    "import pickle"
   ]
  },
  {
   "cell_type": "code",
   "execution_count": 54,
   "metadata": {},
   "outputs": [],
   "source": [
    "import nltk\n",
    "from nltk.tokenize import word_tokenize, WordPunctTokenizer,PunktSentenceTokenizer, TreebankWordTokenizer\n",
    "from nltk.corpus import stopwords, webtext\n",
    "from nltk.stem import WordNetLemmatizer, PorterStemmer\n",
    "from nltk.tag import pos_tag\n",
    "from nltk.sentiment.vader import SentimentIntensityAnalyzer"
   ]
  },
  {
   "cell_type": "code",
   "execution_count": 55,
   "metadata": {},
   "outputs": [],
   "source": [
    "from sklearn.preprocessing import scale\n",
    "from sklearn import utils\n",
    "from sklearn.feature_extraction.text import TfidfVectorizer, CountVectorizer\n",
    "from sklearn.linear_model import LogisticRegression\n",
    "from sklearn.svm import LinearSVC ,SVC\n",
    "from sklearn import preprocessing\n",
    "from sklearn.multiclass import OneVsRestClassifier\n",
    "from sklearn.calibration import CalibratedClassifierCV"
   ]
  },
  {
   "cell_type": "code",
   "execution_count": 56,
   "metadata": {},
   "outputs": [],
   "source": [
    "# calculating n-gram frequency for a review text\n",
    "def ngram_represent_text(text,n):\n",
    "    if n>0:\n",
    "        tokens = [text[i:i+n] for i in range(len(text)-n+1)]\n",
    "    frequency = defaultdict(int)\n",
    "    for token in tokens:\n",
    "        frequency[token] += 1\n",
    "    return frequency"
   ]
  },
  {
   "cell_type": "code",
   "execution_count": 57,
   "metadata": {},
   "outputs": [],
   "source": [
    "# constructing n-gram vocabulary from texts - calculating n-gram frequencies and storing them in dictionaries\n",
    "def ngram_extract_vocabulary(texts,n,ft):\n",
    "    occurrences=defaultdict(int)\n",
    "    for text in texts:\n",
    "        text_occurrences=ngram_represent_text(text,n)\n",
    "        for ngram in text_occurrences:\n",
    "            if ngram in occurrences:\n",
    "                occurrences[ngram]+=text_occurrences[ngram]\n",
    "            else:\n",
    "                occurrences[ngram]=text_occurrences[ngram]\n",
    "    vocabulary=[]\n",
    "    for i in occurrences.keys():\n",
    "        if occurrences[i]>=ft:\n",
    "            vocabulary.append(i)\n",
    "    return vocabulary"
   ]
  },
  {
   "cell_type": "code",
   "execution_count": 58,
   "metadata": {},
   "outputs": [],
   "source": [
    "# hyperparameters\n",
    "pt = 0.08\n",
    "ft = 5\n",
    "n = 4"
   ]
  },
  {
   "cell_type": "code",
   "execution_count": 59,
   "metadata": {},
   "outputs": [],
   "source": [
    "max_abs_scaler = preprocessing.MaxAbsScaler()\n",
    "stopwords_list = {'en': set(stopwords.words('english')) , 'fr':set(stopwords.words('french')),\n",
    "                  'sp': set(stopwords.words('spanish')) , 'it':set(stopwords.words('italian'))}"
   ]
  },
  {
   "cell_type": "code",
   "execution_count": 60,
   "metadata": {},
   "outputs": [],
   "source": [
    "# placeholders for training and testing data\n",
    "train_set , train_labels = [], []\n",
    "test_set , test_labels = [] , []\n",
    "\n",
    "# reading training and testing data from pickle files\n",
    "train_data, test_data = None, None\n",
    "with open(\"../data/train_data.pickle\", \"rb\") as f:\n",
    "    train_data = pickle.load(f)\n",
    "with open(\"../data/test_data.pickle\", \"rb\") as f:\n",
    "    test_data = pickle.load(f)\n",
    "\n",
    "# populating training and testing placeholders with data\n",
    "train_set = train_data['train_texts']\n",
    "train_labels = train_data['train_labels']\n",
    "test_set = test_data['test_texts']\n",
    "test_labels = test_data['test_labels']"
   ]
  },
  {
   "cell_type": "code",
   "execution_count": 61,
   "metadata": {},
   "outputs": [],
   "source": [
    "def get_chunks(l, n):\n",
    "    n = max(1, n)\n",
    "    return [l[i:i+n] for i in range(0, len(l), n)]\n",
    "\n",
    "from statistics import mean\n",
    "word_counts = [text.count(\" \") for text in test_set]\n",
    "mean(word_counts)\n",
    "\n",
    "# 182 words is quite short\n",
    "# Try to join 5 tests texts together\n",
    "longer_test_texts = get_chunks(test_set, 5)\n",
    "longer_test_labels = get_chunks(test_labels, 5)\n",
    "\n",
    "all([len(set(x)) == 1 for x in longer_test_labels])  # Make sure that all combined labels are the same\n",
    "\n",
    "test_set = ['\\n'.join(chunk) for chunk in longer_test_texts]\n",
    "test_labels = [chunk[0] for chunk in longer_test_labels]"
   ]
  },
  {
   "cell_type": "code",
   "execution_count": 62,
   "metadata": {},
   "outputs": [],
   "source": [
    "author_dict = {}\n",
    "n_parts = 10\n",
    "for review, author in zip(train_set, train_labels):\n",
    "    n_chars = len(review) // n_parts\n",
    "    author_dict[author] = [review[i:i+n_chars] for i in range(0, len(review), n_chars)]\n",
    "\n",
    "new_train_set, new_train_labels = [], []\n",
    "for author, reviews in author_dict.items():\n",
    "    new_train_set.extend(reviews)\n",
    "    new_train_labels.extend([author] * len(reviews))\n",
    "\n",
    "# for author, reviews in author_dict.items():\n",
    "#     print('author: {}\\t\\tnum_reviews: {}'.format(author, len(reviews)))\n",
    "# print('len(new_train_set): {}\\t\\tlen(new_train_labels): {}'.format(len(new_train_set), len(new_train_labels)))\n",
    "\n",
    "train_set = new_train_set\n",
    "train_labels = new_train_labels"
   ]
  },
  {
   "cell_type": "code",
   "execution_count": 63,
   "metadata": {},
   "outputs": [],
   "source": [
    "# training and predicting using n-gram model (which uses SVC)\n",
    "ngram_vocabulary = ngram_extract_vocabulary(train_set , n , ft)\n",
    "ngram_vectorizer = CountVectorizer(strip_accents=False, analyzer='char',ngram_range=(n,n),lowercase=False,vocabulary=ngram_vocabulary)  \n",
    "ngram_train_data = ngram_vectorizer.fit_transform(train_set)\n",
    "ngram_train_data = ngram_train_data.astype(float)"
   ]
  },
  {
   "cell_type": "code",
   "execution_count": 64,
   "metadata": {},
   "outputs": [],
   "source": [
    "for i in range(len(train_set)):\n",
    "    ngram_train_data[i]=ngram_train_data[i]/len(train_set[i])\n",
    "ngram_test_data = ngram_vectorizer.transform(test_set)\n",
    "ngram_test_data = ngram_test_data.astype(float)\n",
    "for i in range(len(test_set)):\n",
    "    ngram_test_data[i] = ngram_test_data[i]/len(test_set[i])"
   ]
  },
  {
   "cell_type": "code",
   "execution_count": 65,
   "metadata": {},
   "outputs": [],
   "source": [
    "ngram_scaled_train_data = max_abs_scaler.fit_transform(ngram_train_data)\n",
    "ngram_scaled_test_data = max_abs_scaler.transform(ngram_test_data)"
   ]
  },
  {
   "cell_type": "code",
   "execution_count": 66,
   "metadata": {},
   "outputs": [
    {
     "name": "stderr",
     "output_type": "stream",
     "text": [
      "/usr/local/anaconda3/envs/AuthorAttributionForYelp/lib/python3.7/site-packages/sklearn/model_selection/_split.py:1978: FutureWarning: The default value of cv will change from 3 to 5 in version 0.22. Specify it explicitly to silence this warning.\n",
      "  warnings.warn(CV_WARNING, FutureWarning)\n"
     ]
    }
   ],
   "source": [
    "ngram_clf = CalibratedClassifierCV(OneVsRestClassifier(SVC(C=0.01 , kernel='linear')))\n",
    "ngram_clf.fit(ngram_scaled_train_data, train_labels)\n",
    "ngram_predictions = ngram_clf.predict(ngram_scaled_test_data)\n",
    "ngram_proba = ngram_clf.predict_proba(ngram_scaled_test_data)"
   ]
  },
  {
   "cell_type": "code",
   "execution_count": 68,
   "metadata": {},
   "outputs": [
    {
     "data": {
      "text/plain": [
       "0.996"
      ]
     },
     "execution_count": 68,
     "metadata": {},
     "output_type": "execute_result"
    }
   ],
   "source": [
    "from sklearn.metrics import accuracy_score\n",
    "accuracy_score(test_labels, ngram_predictions)"
   ]
  },
  {
   "cell_type": "code",
   "execution_count": null,
   "metadata": {},
   "outputs": [],
   "source": []
  }
 ],
 "metadata": {
  "kernelspec": {
   "display_name": "Python 3",
   "language": "python",
   "name": "python3"
  },
  "language_info": {
   "codemirror_mode": {
    "name": "ipython",
    "version": 3
   },
   "file_extension": ".py",
   "mimetype": "text/x-python",
   "name": "python",
   "nbconvert_exporter": "python",
   "pygments_lexer": "ipython3",
   "version": "3.7.4"
  }
 },
 "nbformat": 4,
 "nbformat_minor": 2
}

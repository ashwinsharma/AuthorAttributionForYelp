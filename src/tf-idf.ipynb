{
 "cells": [
  {
   "cell_type": "code",
   "execution_count": 1,
   "metadata": {},
   "outputs": [],
   "source": [
    "import os\n",
    "import json\n",
    "import codecs\n",
    "import operator\n",
    "import re\n",
    "import string\n",
    "import argparse\n",
    "import numpy as np\n",
    "from collections import defaultdict\n",
    "import pickle"
   ]
  },
  {
   "cell_type": "code",
   "execution_count": 2,
   "metadata": {},
   "outputs": [],
   "source": [
    "import nltk\n",
    "from nltk.tokenize import word_tokenize, WordPunctTokenizer,PunktSentenceTokenizer, TreebankWordTokenizer\n",
    "from nltk.corpus import stopwords, webtext\n",
    "from nltk.stem import WordNetLemmatizer, PorterStemmer\n",
    "from nltk.tag import pos_tag\n",
    "from nltk.sentiment.vader import SentimentIntensityAnalyzer\n",
    "\n",
    "# following 2 files need to be downloaded if not already present for this to work.\n",
    "# nltk.download('webtext')\n",
    "# nltk.download('vader_lexicon')"
   ]
  },
  {
   "cell_type": "code",
   "execution_count": 3,
   "metadata": {},
   "outputs": [],
   "source": [
    "from sklearn.preprocessing import scale\n",
    "from sklearn import utils\n",
    "from sklearn.feature_extraction.text import TfidfVectorizer, CountVectorizer\n",
    "from sklearn.linear_model import LogisticRegression\n",
    "from sklearn.svm import LinearSVC ,SVC\n",
    "from sklearn import preprocessing\n",
    "from sklearn.multiclass import OneVsRestClassifier\n",
    "from sklearn.calibration import CalibratedClassifierCV"
   ]
  },
  {
   "cell_type": "code",
   "execution_count": 4,
   "metadata": {},
   "outputs": [],
   "source": [
    "# tokenize based on punctuation using nltk\n",
    "punk_sent_tokenizer = PunktSentenceTokenizer(webtext.raw('overheard.txt'))\n",
    "\n",
    "# nltk's built-in sentiment analyzer\n",
    "vader = SentimentIntensityAnalyzer()"
   ]
  },
  {
   "cell_type": "code",
   "execution_count": 5,
   "metadata": {},
   "outputs": [],
   "source": [
    "# text pre-processing for the tf-idf model\n",
    "def tfidf_Preprocessing(text , _stopwords):\n",
    "    # stemming - using nltk's PorterStemmer\n",
    "    stemmer = PorterStemmer()\n",
    "    text = text.replace('-' , '')\n",
    "    text = text.replace('.' , '')\n",
    "    text = text.replace('”' , '')\n",
    "    text = text.replace('’' , '')\n",
    "    text = text.replace('“' , '')\n",
    "    text = text.replace('‘' , '')\n",
    "    text = text.replace('–','')\n",
    "    nopunc = [char for char in text if char not in string.punctuation]\n",
    "    nopunc = ''.join(nopunc)\n",
    "    return ' '.join([stemmer.stem(word).lower() for word in WordPunctTokenizer().tokenize(nopunc) \n",
    "                    if stemmer.stem(word).lower() not in _stopwords])"
   ]
  },
  {
   "cell_type": "code",
   "execution_count": 6,
   "metadata": {},
   "outputs": [],
   "source": [
    "# calculating word frequencies for a review text\n",
    "def tfidf_represent_text(text ):\n",
    "    tokens = WordPunctTokenizer().tokenize(text)\n",
    "    frequency = defaultdict(int)\n",
    "    for token in tokens:\n",
    "        frequency[token] += 1\n",
    "    return frequency"
   ]
  },
  {
   "cell_type": "code",
   "execution_count": 7,
   "metadata": {},
   "outputs": [],
   "source": [
    "# constructing word vocabulary from texts - calculating word frequencies and storing them in dictionaries\n",
    "def tfidf_extract_vocabulary(texts , ft):\n",
    "    occurrences=defaultdict(int)\n",
    "    for text in texts:\n",
    "        text_occurrences=tfidf_represent_text(text)\n",
    "        for ngram in text_occurrences:\n",
    "            if ngram in occurrences:\n",
    "                occurrences[ngram]+=text_occurrences[ngram]\n",
    "            else:\n",
    "                occurrences[ngram]=text_occurrences[ngram]\n",
    "    vocabulary=[]\n",
    "    for i in occurrences.keys():\n",
    "        if occurrences[i]>=ft:\n",
    "            vocabulary.append(i)\n",
    "    return vocabulary"
   ]
  },
  {
   "cell_type": "code",
   "execution_count": 8,
   "metadata": {},
   "outputs": [],
   "source": [
    "max_abs_scaler = preprocessing.MaxAbsScaler()\n",
    "stopwords_list = {'en': set(stopwords.words('english')) , 'fr':set(stopwords.words('french')),\n",
    "                  'sp': set(stopwords.words('spanish')) , 'it':set(stopwords.words('italian'))}"
   ]
  },
  {
   "cell_type": "code",
   "execution_count": 9,
   "metadata": {},
   "outputs": [],
   "source": [
    "# placeholders for training and testing data\n",
    "train_set , train_labels = [], []\n",
    "test_set , test_labels = [] , []\n",
    "\n",
    "# reading training and testing data from pickle files\n",
    "train_data, test_data = None, None\n",
    "with open(\"../data/train_data.pickle\", \"rb\") as f:\n",
    "    train_data = pickle.load(f)\n",
    "with open(\"../data/test_data.pickle\", \"rb\") as f:\n",
    "    test_data = pickle.load(f)\n",
    "\n",
    "# populating training and testing placeholders with data\n",
    "train_set = train_data['train_texts']\n",
    "train_labels = train_data['train_labels']\n",
    "test_set = test_data['test_texts']\n",
    "test_labels = test_data['test_labels']"
   ]
  },
  {
   "cell_type": "code",
   "execution_count": 28,
   "metadata": {},
   "outputs": [],
   "source": [
    "def get_chunks(l, n):\n",
    "    n = max(1, n)\n",
    "    return [l[i:i+n] for i in range(0, len(l), n)]"
   ]
  },
  {
   "cell_type": "code",
   "execution_count": 30,
   "metadata": {},
   "outputs": [],
   "source": [
    "# 182 words is quite short\n",
    "# Try to join 5 tests texts together\n",
    "longer_test_texts = get_chunks(test_set, 5)\n",
    "longer_test_labels = get_chunks(test_labels, 5)\n",
    "longer_test_texts = ['\\n'.join(chunk) for chunk in longer_test_texts]\n",
    "longer_test_labels = [chunk[0] for chunk in longer_test_labels]"
   ]
  },
  {
   "cell_type": "code",
   "execution_count": 31,
   "metadata": {},
   "outputs": [],
   "source": [
    "# converting the text into tf-idf vectors\n",
    "tfidf_train_set = [tfidf_Preprocessing(text , stopwords_list['en']) \n",
    "                for text in train_set]\n",
    "tfidf_test_set = [tfidf_Preprocessing(text , stopwords_list['en'])\n",
    "                for text in longer_test_texts]"
   ]
  },
  {
   "cell_type": "code",
   "execution_count": 32,
   "metadata": {},
   "outputs": [],
   "source": [
    "# training and predicting using tf-idf model (which uses linear SVC)\n",
    "ft = 5\n",
    "tfidf_vocab = tfidf_extract_vocabulary(tfidf_train_set , ft )\n",
    "tfidf_vectorizer = TfidfVectorizer(vocabulary=tfidf_vocab, norm=None, strip_accents=False)"
   ]
  },
  {
   "cell_type": "code",
   "execution_count": 33,
   "metadata": {},
   "outputs": [],
   "source": [
    "tfidf_train_data = tfidf_vectorizer.fit_transform(tfidf_train_set)\n",
    "tfidf_test_data = tfidf_vectorizer.fit_transform(tfidf_test_set)"
   ]
  },
  {
   "cell_type": "code",
   "execution_count": 34,
   "metadata": {},
   "outputs": [],
   "source": [
    "tfidf_scaled_train_data = max_abs_scaler.fit_transform(tfidf_train_data)\n",
    "tfidf_scaled_test_data = max_abs_scaler.transform(tfidf_test_data)"
   ]
  },
  {
   "cell_type": "code",
   "execution_count": 35,
   "metadata": {},
   "outputs": [],
   "source": [
    "tfidf_clf = LinearSVC(C=0.0001)\n",
    "tfidf_clf.fit(tfidf_scaled_train_data, train_labels)\n",
    "tfidf_predictions = tfidf_clf.predict(tfidf_scaled_test_data)\n",
    "# tfidf_proba = tfidf_clf.predict_proba(tfidf_scaled_test_data)"
   ]
  },
  {
   "cell_type": "code",
   "execution_count": 37,
   "metadata": {},
   "outputs": [
    {
     "data": {
      "text/plain": [
       "0.772"
      ]
     },
     "execution_count": 37,
     "metadata": {},
     "output_type": "execute_result"
    }
   ],
   "source": [
    "from sklearn.metrics import accuracy_score\n",
    "accuracy_score(longer_test_labels, tfidf_predictions)"
   ]
  },
  {
   "cell_type": "code",
   "execution_count": null,
   "metadata": {},
   "outputs": [],
   "source": []
  }
 ],
 "metadata": {
  "kernelspec": {
   "display_name": "Python 3",
   "language": "python",
   "name": "python3"
  },
  "language_info": {
   "codemirror_mode": {
    "name": "ipython",
    "version": 3
   },
   "file_extension": ".py",
   "mimetype": "text/x-python",
   "name": "python",
   "nbconvert_exporter": "python",
   "pygments_lexer": "ipython3",
   "version": "3.7.4"
  }
 },
 "nbformat": 4,
 "nbformat_minor": 2
}

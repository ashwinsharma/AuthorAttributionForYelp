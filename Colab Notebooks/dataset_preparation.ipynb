{
  "nbformat": 4,
  "nbformat_minor": 0,
  "metadata": {
    "kernelspec": {
      "display_name": "Python 3",
      "language": "python",
      "name": "python3"
    },
    "language_info": {
      "codemirror_mode": {
        "name": "ipython",
        "version": 3
      },
      "file_extension": ".py",
      "mimetype": "text/x-python",
      "name": "python",
      "nbconvert_exporter": "python",
      "pygments_lexer": "ipython3",
      "version": "3.7.4"
    },
    "colab": {
      "name": "dataset_preparation.ipynb",
      "provenance": []
    }
  },
  "cells": [
    {
      "cell_type": "markdown",
      "metadata": {
        "id": "1kYni7u4ZbVS",
        "colab_type": "text"
      },
      "source": [
        "Read the review.json file from the Yelp Dataset into memory. There are 6M+ reviews in the file."
      ]
    },
    {
      "cell_type": "code",
      "metadata": {
        "id": "Xr_cbXCYZZjm",
        "colab_type": "code",
        "outputId": "0206c2e2-069c-4255-8f14-f7191c9e9915",
        "colab": {
          "base_uri": "https://localhost:8080/",
          "height": 153
        }
      },
      "source": [
        "%%time\n",
        "\n",
        "from google.colab import drive\n",
        "drive.mount('/content/drive')\n",
        "root_dir = 'drive/My Drive/Colab Notebooks/AuthorshipAttribution/'\n",
        "\n",
        "import json\n",
        "reviews = []\n",
        "with open(root_dir + \"data/review.json\") as f:\n",
        "    index = 0\n",
        "    for line in f:\n",
        "        if index % 1000000 == 0:\n",
        "            print(index)\n",
        "        index += 1\n",
        "        reviews.append(json.loads(line))"
      ],
      "execution_count": 0,
      "outputs": [
        {
          "output_type": "stream",
          "text": [
            "Drive already mounted at /content/drive; to attempt to forcibly remount, call drive.mount(\"/content/drive\", force_remount=True).\n",
            "0\n",
            "1000000\n",
            "2000000\n",
            "3000000\n",
            "4000000\n",
            "5000000\n",
            "6000000\n"
          ],
          "name": "stdout"
        }
      ]
    },
    {
      "cell_type": "markdown",
      "metadata": {
        "id": "PrOBXfHCaA4_",
        "colab_type": "text"
      },
      "source": [
        "Print the first review to examine the metadata that comes with the review"
      ]
    },
    {
      "cell_type": "code",
      "metadata": {
        "id": "HZHp_3WmZZjs",
        "colab_type": "code",
        "outputId": "e9d39a64-1df2-403d-a3b8-417f26bef3e9",
        "colab": {
          "base_uri": "https://localhost:8080/",
          "height": 164
        }
      },
      "source": [
        "print(reviews[0])"
      ],
      "execution_count": 0,
      "outputs": [
        {
          "output_type": "error",
          "ename": "NameError",
          "evalue": "ignored",
          "traceback": [
            "\u001b[0;31m---------------------------------------------------------------------------\u001b[0m",
            "\u001b[0;31mNameError\u001b[0m                                 Traceback (most recent call last)",
            "\u001b[0;32m<ipython-input-1-4382df7e48bf>\u001b[0m in \u001b[0;36m<module>\u001b[0;34m()\u001b[0m\n\u001b[0;32m----> 1\u001b[0;31m \u001b[0mprint\u001b[0m\u001b[0;34m(\u001b[0m\u001b[0mreviews\u001b[0m\u001b[0;34m[\u001b[0m\u001b[0;36m0\u001b[0m\u001b[0;34m]\u001b[0m\u001b[0;34m)\u001b[0m\u001b[0;34m\u001b[0m\u001b[0;34m\u001b[0m\u001b[0m\n\u001b[0m",
            "\u001b[0;31mNameError\u001b[0m: name 'reviews' is not defined"
          ]
        }
      ]
    },
    {
      "cell_type": "markdown",
      "metadata": {
        "id": "8k6OyoCLaMPc",
        "colab_type": "text"
      },
      "source": [
        "We instantiate a counter object which will extract the user id of the reviewers with the most number of reviews. Specifically, we take the top 50 such reviewers."
      ]
    },
    {
      "cell_type": "code",
      "metadata": {
        "id": "WHZl7iyGZZju",
        "colab_type": "code",
        "outputId": "eaeb4872-65d8-4b7b-cdc2-08cb28bb0ecf",
        "colab": {
          "base_uri": "https://localhost:8080/",
          "height": 198
        }
      },
      "source": [
        "from collections import Counter\n",
        "prolific_reviewers = Counter([review['user_id'] for review in reviews]).most_common(50)\n",
        "prolific_reviewers"
      ],
      "execution_count": 0,
      "outputs": [
        {
          "output_type": "error",
          "ename": "NameError",
          "evalue": "ignored",
          "traceback": [
            "\u001b[0;31m---------------------------------------------------------------------------\u001b[0m",
            "\u001b[0;31mNameError\u001b[0m                                 Traceback (most recent call last)",
            "\u001b[0;32m<ipython-input-1-5a53c5274dd4>\u001b[0m in \u001b[0;36m<module>\u001b[0;34m()\u001b[0m\n\u001b[1;32m      1\u001b[0m \u001b[0;32mfrom\u001b[0m \u001b[0mcollections\u001b[0m \u001b[0;32mimport\u001b[0m \u001b[0mCounter\u001b[0m\u001b[0;34m\u001b[0m\u001b[0;34m\u001b[0m\u001b[0m\n\u001b[0;32m----> 2\u001b[0;31m \u001b[0mprolific_reviewers\u001b[0m \u001b[0;34m=\u001b[0m \u001b[0mCounter\u001b[0m\u001b[0;34m(\u001b[0m\u001b[0;34m[\u001b[0m\u001b[0mreview\u001b[0m\u001b[0;34m[\u001b[0m\u001b[0;34m'user_id'\u001b[0m\u001b[0;34m]\u001b[0m \u001b[0;32mfor\u001b[0m \u001b[0mreview\u001b[0m \u001b[0;32min\u001b[0m \u001b[0mreviews\u001b[0m\u001b[0;34m]\u001b[0m\u001b[0;34m)\u001b[0m\u001b[0;34m.\u001b[0m\u001b[0mmost_common\u001b[0m\u001b[0;34m(\u001b[0m\u001b[0;36m50\u001b[0m\u001b[0;34m)\u001b[0m\u001b[0;34m\u001b[0m\u001b[0;34m\u001b[0m\u001b[0m\n\u001b[0m\u001b[1;32m      3\u001b[0m \u001b[0mprolific_reviewers\u001b[0m\u001b[0;34m\u001b[0m\u001b[0;34m\u001b[0m\u001b[0m\n",
            "\u001b[0;31mNameError\u001b[0m: name 'reviews' is not defined"
          ]
        }
      ]
    },
    {
      "cell_type": "code",
      "metadata": {
        "id": "ned3nOqZZZjx",
        "colab_type": "code",
        "colab": {}
      },
      "source": [
        "keep_ids = {pr[0] : 0 for pr in prolific_reviewers}\n",
        "keep_ids"
      ],
      "execution_count": 0,
      "outputs": []
    },
    {
      "cell_type": "markdown",
      "metadata": {
        "id": "KRWaCMudh45R",
        "colab_type": "text"
      },
      "source": [
        "We then go through the list of reviews and fetch the reviews written by the top 50 most prolific authors extracted in the previous step. We concatenate all the reviews written by a particular author into one big chunk of text, and store it as the value in a { author_id: review_text } dictionary."
      ]
    },
    {
      "cell_type": "code",
      "metadata": {
        "id": "zsZCJNPTZZjy",
        "colab_type": "code",
        "colab": {}
      },
      "source": [
        "by_author = {} # author : \"review 1\\n review 2\\n review 3\"\n",
        "for review in reviews:\n",
        "    uid = review['user_id']\n",
        "    if uid in keep_ids:\n",
        "        uid = review['user_id']\n",
        "        if uid in by_author:\n",
        "            by_author[uid] += \"\\n{}\".format(review['text'])\n",
        "        else:\n",
        "            by_author[uid] = \"{}\".format(review['text'])"
      ],
      "execution_count": 0,
      "outputs": []
    },
    {
      "cell_type": "code",
      "metadata": {
        "id": "kFQ6dSRbZZj0",
        "colab_type": "code",
        "outputId": "f76f48c1-ccd4-49ec-ef19-2b4ed0d87901",
        "colab": {}
      },
      "source": [
        "len(by_author)"
      ],
      "execution_count": 0,
      "outputs": [
        {
          "output_type": "execute_result",
          "data": {
            "text/plain": [
              "50"
            ]
          },
          "metadata": {
            "tags": []
          },
          "execution_count": 6
        }
      ]
    },
    {
      "cell_type": "markdown",
      "metadata": {
        "id": "3pbGo_CWixxs",
        "colab_type": "text"
      },
      "source": [
        "We now make sure that each author has at least 200,000 characters worth of review text in the dictionary created above, by sorting the dictionary on the length of each author's review text, and seeing if the minimum review text length is > 200,000"
      ]
    },
    {
      "cell_type": "code",
      "metadata": {
        "id": "VhwJYH_JZZj2",
        "colab_type": "code",
        "outputId": "6fddaf7b-cbbe-4928-87f1-2f842091b27e",
        "colab": {}
      },
      "source": [
        "# check that we have at least 200000 characters for each author\n",
        "sorted([(len(by_author[key]), key) for key in by_author])[:5]"
      ],
      "execution_count": 0,
      "outputs": [
        {
          "output_type": "execute_result",
          "data": {
            "text/plain": [
              "[(218976, 'ic-tyi1jElL_umxZVh8KNA'),\n",
              " (237086, 'PcvbBOCOcs6_suRDH7TSTg'),\n",
              " (288579, 'PeLGa5vUR8_mcsn-fn42Jg'),\n",
              " (467816, 'Lfv4hefW1VbvaC2gatTFWA'),\n",
              " (468683, 'iDlkZO2iILS8Jwfdy7DP9A')]"
            ]
          },
          "metadata": {
            "tags": []
          },
          "execution_count": 7
        }
      ]
    },
    {
      "cell_type": "markdown",
      "metadata": {
        "id": "sNEAPNTUjKxA",
        "colab_type": "text"
      },
      "source": [
        "The following function takes a string and a chunk length (n) as input and returns chunks of the string each n characters long."
      ]
    },
    {
      "cell_type": "code",
      "metadata": {
        "id": "8LFAIaT1ZZj4",
        "colab_type": "code",
        "colab": {}
      },
      "source": [
        "def get_chunks(l, n):\n",
        "    n = max(1, n)\n",
        "    return [l[i:i+n] for i in range(0, len(l), n)]"
      ],
      "execution_count": 0,
      "outputs": []
    },
    {
      "cell_type": "markdown",
      "metadata": {
        "id": "-vyRLMvCj4cM",
        "colab_type": "text"
      },
      "source": [
        "We then split the reviews into training and test sets as specified in the readme file."
      ]
    },
    {
      "cell_type": "code",
      "metadata": {
        "id": "5AUX6D-gZZj6",
        "colab_type": "code",
        "colab": {}
      },
      "source": [
        "train_texts = []  # the first 100 000 chars from each author\n",
        "train_labels = [] # each author\n",
        "test_texts = []   # 100 texts of 1000 characters each (second 100 000 chars of each author)\n",
        "test_labels = []  # each author * 100\n",
        "\n",
        "author_int = {author: i for i,author in enumerate(by_author)}\n",
        "int_author = {author_int[author]: author for author in author_int}\n",
        "\n",
        "for author in by_author:\n",
        "    train_text = by_author[author][:50000]\n",
        "    train_label = author_int[author]\n",
        "    train_texts.append(train_text)\n",
        "    train_labels.append(train_label)\n",
        "    \n",
        "    short_texts = get_chunks(by_author[author][50000:100000], 1000)\n",
        "    for text in short_texts:\n",
        "        test_texts.append(text)\n",
        "        test_labels.append(author_int[author])"
      ],
      "execution_count": 0,
      "outputs": []
    },
    {
      "cell_type": "code",
      "metadata": {
        "id": "ibAjfZHaZZj8",
        "colab_type": "code",
        "colab": {}
      },
      "source": [
        "train_data = {\n",
        "    \"train_texts\": train_texts,\n",
        "    \"train_labels\": train_labels\n",
        "}\n",
        "test_data = {\n",
        "    \"test_texts\": test_texts,\n",
        "    \"test_labels\": test_labels\n",
        "}"
      ],
      "execution_count": 0,
      "outputs": []
    },
    {
      "cell_type": "markdown",
      "metadata": {
        "id": "GUMOxRLSkCP_",
        "colab_type": "text"
      },
      "source": [
        "Lastly, we dump the extracted training and test data into pickle files of their own, stored for later use."
      ]
    },
    {
      "cell_type": "code",
      "metadata": {
        "id": "tVR9eRLQZZj-",
        "colab_type": "code",
        "colab": {}
      },
      "source": [
        "import pickle\n",
        "\n",
        "with open(\"../data/train_data.pickle\", \"wb\") as f:\n",
        "    pickle.dump(train_data, f)\n",
        "with open(\"../data/test_data.pickle\", \"wb\") as f:\n",
        "    pickle.dump(test_data, f)"
      ],
      "execution_count": 0,
      "outputs": []
    }
  ]
}
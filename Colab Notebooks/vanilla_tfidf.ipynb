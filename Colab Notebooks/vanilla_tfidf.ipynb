{
  "nbformat": 4,
  "nbformat_minor": 0,
  "metadata": {
    "kernelspec": {
      "display_name": "Python 3",
      "language": "python",
      "name": "python3"
    },
    "language_info": {
      "codemirror_mode": {
        "name": "ipython",
        "version": 3
      },
      "file_extension": ".py",
      "mimetype": "text/x-python",
      "name": "python",
      "nbconvert_exporter": "python",
      "pygments_lexer": "ipython3",
      "version": "3.7.4"
    },
    "colab": {
      "name": "vanilla_tfidf.ipynb",
      "provenance": []
    }
  },
  "cells": [
    {
      "cell_type": "markdown",
      "metadata": {
        "id": "_xWtulWPkmge",
        "colab_type": "text"
      },
      "source": [
        "Mount Google Drive and extract the training and test data from the respective pickle files."
      ]
    },
    {
      "cell_type": "code",
      "metadata": {
        "id": "mOocMGsPTiJA",
        "colab_type": "code",
        "outputId": "3f2a7fa4-2034-4087-dae3-3d358b4f7121",
        "colab": {
          "base_uri": "https://localhost:8080/",
          "height": 122
        }
      },
      "source": [
        "from google.colab import drive\n",
        "drive.mount('/content/gdrive')\n",
        "data_dir = 'gdrive/My Drive/Colab Notebooks/AuthorshipAttribution/data' # @param {type:\"string\"}\n"
      ],
      "execution_count": 0,
      "outputs": [
        {
          "output_type": "stream",
          "text": [
            "Go to this URL in a browser: https://accounts.google.com/o/oauth2/auth?client_id=947318989803-6bn6qk8qdgf4n4g3pfee6491hc0brc4i.apps.googleusercontent.com&redirect_uri=urn%3aietf%3awg%3aoauth%3a2.0%3aoob&response_type=code&scope=email%20https%3a%2f%2fwww.googleapis.com%2fauth%2fdocs.test%20https%3a%2f%2fwww.googleapis.com%2fauth%2fdrive%20https%3a%2f%2fwww.googleapis.com%2fauth%2fdrive.photos.readonly%20https%3a%2f%2fwww.googleapis.com%2fauth%2fpeopleapi.readonly\n",
            "\n",
            "Enter your authorization code:\n",
            "··········\n",
            "Mounted at /content/gdrive\n"
          ],
          "name": "stdout"
        }
      ]
    },
    {
      "cell_type": "code",
      "metadata": {
        "id": "PKG3e1cGTnCu",
        "colab_type": "code",
        "colab": {}
      },
      "source": [
        "import pickle\n",
        "\n",
        "train_data, test_data = None, None\n",
        "with open(data_dir + \"/train_data.pickle\", \"rb\") as f:\n",
        "    train_data = pickle.load(f)\n",
        "with open(data_dir + \"/test_data.pickle\", \"rb\") as f:\n",
        "    test_data = pickle.load(f)"
      ],
      "execution_count": 0,
      "outputs": []
    },
    {
      "cell_type": "code",
      "metadata": {
        "id": "JQV_Ld0cQHC0",
        "colab_type": "code",
        "colab": {}
      },
      "source": [
        "x_train = train_data['train_texts']\n",
        "y_train = train_data['train_labels']\n",
        "\n",
        "x_test = test_data['test_texts']\n",
        "y_test = test_data['test_labels']"
      ],
      "execution_count": 0,
      "outputs": []
    },
    {
      "cell_type": "markdown",
      "metadata": {
        "id": "fYEor1g1kwsm",
        "colab_type": "text"
      },
      "source": [
        "Convert the training and testing reviews into a matrix of TF/IDF features using sklearn."
      ]
    },
    {
      "cell_type": "code",
      "metadata": {
        "id": "JN_rD0iuQHC5",
        "colab_type": "code",
        "outputId": "18e73dcf-84c4-42de-a145-410354ccc853",
        "colab": {
          "base_uri": "https://localhost:8080/",
          "height": 51
        }
      },
      "source": [
        "%%time\n",
        "\n",
        "from sklearn.pipeline import FeatureUnion\n",
        "from sklearn.feature_extraction.text import TfidfVectorizer\n",
        "word_vec = TfidfVectorizer(min_df=5, ngram_range=(1,2), lowercase=False)\n",
        "char_vec = TfidfVectorizer(min_df=5, ngram_range=(2,3), lowercase=False)\n",
        "\n",
        "fu = FeatureUnion([\n",
        "    ('word', word_vec),\n",
        "    ('char', char_vec)\n",
        "])\n",
        "\n",
        "X_train = fu.fit_transform(x_train)"
      ],
      "execution_count": 0,
      "outputs": [
        {
          "output_type": "stream",
          "text": [
            "CPU times: user 6.11 s, sys: 350 ms, total: 6.46 s\n",
            "Wall time: 6.55 s\n"
          ],
          "name": "stdout"
        }
      ]
    },
    {
      "cell_type": "code",
      "metadata": {
        "id": "FNyL_A13QHC_",
        "colab_type": "code",
        "outputId": "72aceb88-5628-40f4-bc13-2a7dacd51769",
        "colab": {
          "base_uri": "https://localhost:8080/",
          "height": 34
        }
      },
      "source": [
        "X_train.shape"
      ],
      "execution_count": 0,
      "outputs": [
        {
          "output_type": "execute_result",
          "data": {
            "text/plain": [
              "(50, 28206)"
            ]
          },
          "metadata": {
            "tags": []
          },
          "execution_count": 6
        }
      ]
    },
    {
      "cell_type": "code",
      "metadata": {
        "id": "2gb8CFabQHDE",
        "colab_type": "code",
        "colab": {}
      },
      "source": [
        "X_test = fu.transform(x_test)"
      ],
      "execution_count": 0,
      "outputs": []
    },
    {
      "cell_type": "markdown",
      "metadata": {
        "id": "38bSfpj3mI27",
        "colab_type": "text"
      },
      "source": [
        "Instantiate a linear support vector classification object from sklearn."
      ]
    },
    {
      "cell_type": "code",
      "metadata": {
        "id": "EY_W1UQLQHDI",
        "colab_type": "code",
        "colab": {}
      },
      "source": [
        "from sklearn.svm import LinearSVC\n",
        "\n",
        "svm = LinearSVC()"
      ],
      "execution_count": 0,
      "outputs": []
    },
    {
      "cell_type": "markdown",
      "metadata": {
        "id": "HOh6_sqnmeBR",
        "colab_type": "text"
      },
      "source": [
        "Fit the training data to the LinearSVC model."
      ]
    },
    {
      "cell_type": "code",
      "metadata": {
        "id": "i9iNM6YgQHDN",
        "colab_type": "code",
        "outputId": "738579b8-837b-4a04-bf15-d8551a19859e",
        "colab": {
          "base_uri": "https://localhost:8080/",
          "height": 119
        }
      },
      "source": [
        "%%time\n",
        "\n",
        "svm.fit(X_train, y_train)"
      ],
      "execution_count": 0,
      "outputs": [
        {
          "output_type": "stream",
          "text": [
            "CPU times: user 1.19 s, sys: 3.83 ms, total: 1.2 s\n",
            "Wall time: 1.21 s\n"
          ],
          "name": "stdout"
        },
        {
          "output_type": "execute_result",
          "data": {
            "text/plain": [
              "LinearSVC(C=1.0, class_weight=None, dual=True, fit_intercept=True,\n",
              "          intercept_scaling=1, loss='squared_hinge', max_iter=1000,\n",
              "          multi_class='ovr', penalty='l2', random_state=None, tol=0.0001,\n",
              "          verbose=0)"
            ]
          },
          "metadata": {
            "tags": []
          },
          "execution_count": 9
        }
      ]
    },
    {
      "cell_type": "markdown",
      "metadata": {
        "id": "x-asMTG2minO",
        "colab_type": "text"
      },
      "source": [
        "Using the trained model from above, predict the authors for the test reviews and calculate the accuracy."
      ]
    },
    {
      "cell_type": "code",
      "metadata": {
        "id": "uvko3UthQHDR",
        "colab_type": "code",
        "outputId": "f6dc59ab-cae1-44b9-fd71-41c6134a1c51",
        "colab": {
          "base_uri": "https://localhost:8080/",
          "height": 34
        }
      },
      "source": [
        "preds = svm.predict(X_test)\n",
        "\n",
        "from sklearn.metrics import accuracy_score\n",
        "accuracy_score(y_test, preds)"
      ],
      "execution_count": 0,
      "outputs": [
        {
          "output_type": "execute_result",
          "data": {
            "text/plain": [
              "0.4624"
            ]
          },
          "metadata": {
            "tags": []
          },
          "execution_count": 10
        }
      ]
    },
    {
      "cell_type": "markdown",
      "metadata": {
        "id": "yMyCa2xrmqze",
        "colab_type": "text"
      },
      "source": [
        "The accuracy we get from this is quite low. This is because our test reviews are too short."
      ]
    },
    {
      "cell_type": "code",
      "metadata": {
        "id": "X3lEAIyEQHDW",
        "colab_type": "code",
        "colab": {}
      },
      "source": [
        "def get_chunks(l, n):\n",
        "    n = max(1, n)\n",
        "    return [l[i:i+n] for i in range(0, len(l), n)]"
      ],
      "execution_count": 0,
      "outputs": []
    },
    {
      "cell_type": "code",
      "metadata": {
        "id": "_DGp0jpXQHDZ",
        "colab_type": "code",
        "outputId": "3d20dc89-4452-4a96-e226-03cd5bd48f25",
        "colab": {
          "base_uri": "https://localhost:8080/",
          "height": 51
        }
      },
      "source": [
        "print(len(x_test))\n",
        "print(len(y_test))"
      ],
      "execution_count": 0,
      "outputs": [
        {
          "output_type": "stream",
          "text": [
            "2500\n",
            "2500\n"
          ],
          "name": "stdout"
        }
      ]
    },
    {
      "cell_type": "code",
      "metadata": {
        "id": "eBOpE-PFQHDa",
        "colab_type": "code",
        "outputId": "c7b5d3f0-a228-4551-af27-1b1c26d8aafe",
        "colab": {
          "base_uri": "https://localhost:8080/",
          "height": 34
        }
      },
      "source": [
        "from statistics import mean\n",
        "word_counts = [text.count(\" \") for text in x_test]\n",
        "mean(word_counts)"
      ],
      "execution_count": 0,
      "outputs": [
        {
          "output_type": "execute_result",
          "data": {
            "text/plain": [
              "182.5416"
            ]
          },
          "metadata": {
            "tags": []
          },
          "execution_count": 13
        }
      ]
    },
    {
      "cell_type": "markdown",
      "metadata": {
        "id": "jkV3C7-BnH2c",
        "colab_type": "text"
      },
      "source": [
        "We join multiple test reviews, in this case 5, to get longer test reviews."
      ]
    },
    {
      "cell_type": "code",
      "metadata": {
        "id": "IPWJKwI3QHDc",
        "colab_type": "code",
        "colab": {}
      },
      "source": [
        "# 182 words is quite short\n",
        "# Try to join 5 tests texts together\n",
        "longer_test_texts = get_chunks(x_test, 5)\n",
        "longer_test_labels = get_chunks(y_test, 5)"
      ],
      "execution_count": 0,
      "outputs": []
    },
    {
      "cell_type": "code",
      "metadata": {
        "id": "kYVdke5XQHDf",
        "colab_type": "code",
        "outputId": "7663b5d4-9cc4-4349-bc7d-20e7a4ea5ff5",
        "colab": {
          "base_uri": "https://localhost:8080/",
          "height": 34
        }
      },
      "source": [
        "all([len(set(x)) == 1 for x in longer_test_labels])  # Make sure that all combined labels are the same"
      ],
      "execution_count": 0,
      "outputs": [
        {
          "output_type": "execute_result",
          "data": {
            "text/plain": [
              "True"
            ]
          },
          "metadata": {
            "tags": []
          },
          "execution_count": 15
        }
      ]
    },
    {
      "cell_type": "code",
      "metadata": {
        "id": "3fboTZoEQHDh",
        "colab_type": "code",
        "colab": {}
      },
      "source": [
        "longer_test_texts = ['\\n'.join(chunk) for chunk in longer_test_texts]"
      ],
      "execution_count": 0,
      "outputs": []
    },
    {
      "cell_type": "code",
      "metadata": {
        "id": "h5GNrQbPQHDi",
        "colab_type": "code",
        "colab": {}
      },
      "source": [
        "longer_test_labels = [chunk[0] for chunk in longer_test_labels]"
      ],
      "execution_count": 0,
      "outputs": []
    },
    {
      "cell_type": "code",
      "metadata": {
        "id": "_kfQuaEKQHDk",
        "colab_type": "code",
        "outputId": "575fda4f-dc78-4e43-d39f-d32a56b0827b",
        "colab": {
          "base_uri": "https://localhost:8080/",
          "height": 34
        }
      },
      "source": [
        "len(longer_test_texts)"
      ],
      "execution_count": 0,
      "outputs": [
        {
          "output_type": "execute_result",
          "data": {
            "text/plain": [
              "500"
            ]
          },
          "metadata": {
            "tags": []
          },
          "execution_count": 18
        }
      ]
    },
    {
      "cell_type": "code",
      "metadata": {
        "id": "7Gx0nKGDQHDm",
        "colab_type": "code",
        "colab": {}
      },
      "source": [
        "X_test_longer = fu.transform(longer_test_texts)"
      ],
      "execution_count": 0,
      "outputs": []
    },
    {
      "cell_type": "markdown",
      "metadata": {
        "id": "Oq4xdh3sntzx",
        "colab_type": "text"
      },
      "source": [
        "We use the same trained SVM model from before and perform testing on the new longer test reviews, and get a much better accuracy score."
      ]
    },
    {
      "cell_type": "code",
      "metadata": {
        "id": "0BbJm3WOQHDo",
        "colab_type": "code",
        "colab": {}
      },
      "source": [
        "preds = svm.predict(X_test_longer)"
      ],
      "execution_count": 0,
      "outputs": []
    },
    {
      "cell_type": "code",
      "metadata": {
        "id": "U4HwSwDcQHDq",
        "colab_type": "code",
        "outputId": "44e3d077-db1b-4830-d61c-41966c10e8bb",
        "colab": {
          "base_uri": "https://localhost:8080/",
          "height": 34
        }
      },
      "source": [
        "accuracy_score(longer_test_labels, preds)"
      ],
      "execution_count": 0,
      "outputs": [
        {
          "output_type": "execute_result",
          "data": {
            "text/plain": [
              "0.908"
            ]
          },
          "metadata": {
            "tags": []
          },
          "execution_count": 21
        }
      ]
    },
    {
      "cell_type": "markdown",
      "metadata": {
        "id": "YCFGDYMGn3o6",
        "colab_type": "text"
      },
      "source": [
        "We then go on to compute the confusion matrix and f1 score for our model."
      ]
    },
    {
      "cell_type": "code",
      "metadata": {
        "id": "7Ol8ica0QHDs",
        "colab_type": "code",
        "colab": {}
      },
      "source": [
        "from sklearn.metrics import confusion_matrix"
      ],
      "execution_count": 0,
      "outputs": []
    },
    {
      "cell_type": "code",
      "metadata": {
        "id": "W9A_htHZQHDw",
        "colab_type": "code",
        "outputId": "e0b0f15d-ce9d-44fb-cda0-611ce487b55e",
        "colab": {
          "base_uri": "https://localhost:8080/",
          "height": 34
        }
      },
      "source": [
        "from sklearn.metrics import f1_score\n",
        "f1_score(longer_test_labels, preds, average='macro')"
      ],
      "execution_count": 0,
      "outputs": [
        {
          "output_type": "execute_result",
          "data": {
            "text/plain": [
              "0.9003983905994943"
            ]
          },
          "metadata": {
            "tags": []
          },
          "execution_count": 23
        }
      ]
    },
    {
      "cell_type": "code",
      "metadata": {
        "id": "1m_dppFSQHDz",
        "colab_type": "code",
        "colab": {}
      },
      "source": [
        "# !pip install matplotlib\n",
        "import matplotlib.pyplot as plt\n"
      ],
      "execution_count": 0,
      "outputs": []
    },
    {
      "cell_type": "code",
      "metadata": {
        "id": "C-MRNaaRQHD2",
        "colab_type": "code",
        "colab": {}
      },
      "source": [
        "cm = confusion_matrix(longer_test_labels, preds)"
      ],
      "execution_count": 0,
      "outputs": []
    },
    {
      "cell_type": "code",
      "metadata": {
        "id": "Qj0oEXlFQHD3",
        "colab_type": "code",
        "outputId": "f933fd43-89d2-4dc7-c709-b6bc45078adf",
        "colab": {
          "base_uri": "https://localhost:8080/",
          "height": 136
        }
      },
      "source": [
        "cm"
      ],
      "execution_count": 0,
      "outputs": [
        {
          "output_type": "execute_result",
          "data": {
            "text/plain": [
              "array([[ 7,  0,  1, ...,  0,  0,  0],\n",
              "       [ 0, 10,  0, ...,  0,  0,  0],\n",
              "       [ 0,  0, 10, ...,  0,  0,  0],\n",
              "       ...,\n",
              "       [ 0,  0,  0, ...,  9,  0,  0],\n",
              "       [ 0,  0,  0, ...,  0, 10,  0],\n",
              "       [ 0,  0,  0, ...,  0,  0, 10]])"
            ]
          },
          "metadata": {
            "tags": []
          },
          "execution_count": 26
        }
      ]
    },
    {
      "cell_type": "code",
      "metadata": {
        "id": "mbxUJrD7QHD6",
        "colab_type": "code",
        "outputId": "91759550-5d4c-4ca0-d4e6-d0f151b37387",
        "colab": {
          "base_uri": "https://localhost:8080/",
          "height": 269
        }
      },
      "source": [
        "fig = plt.figure()\n",
        "ax = fig.add_subplot(111)\n",
        "cax = ax.matshow(cm)"
      ],
      "execution_count": 0,
      "outputs": [
        {
          "output_type": "display_data",
          "data": {
            "image/png": "[encoded data removed]",
            "text/plain": [
              "<Figure size 432x288 with 1 Axes>"
            ]
          },
          "metadata": {
            "tags": []
          }
        }
      ]
    },
    {
      "cell_type": "code",
      "metadata": {
        "id": "7SPbymYSQHD8",
        "colab_type": "code",
        "colab": {}
      },
      "source": [
        "from sklearn.metrics import classification_report"
      ],
      "execution_count": 0,
      "outputs": []
    },
    {
      "cell_type": "code",
      "metadata": {
        "id": "vOXt6BflQHD-",
        "colab_type": "code",
        "outputId": "211c4bf5-3cae-4d43-d1d6-3b8e3691af5f",
        "colab": {
          "base_uri": "https://localhost:8080/",
          "height": 986
        }
      },
      "source": [
        "print(classification_report(longer_test_labels, preds))"
      ],
      "execution_count": 0,
      "outputs": [
        {
          "output_type": "stream",
          "text": [
            "              precision    recall  f1-score   support\n",
            "\n",
            "           0       1.00      0.70      0.82        10\n",
            "           1       0.77      1.00      0.87        10\n",
            "           2       0.83      1.00      0.91        10\n",
            "           3       1.00      1.00      1.00        10\n",
            "           4       0.91      1.00      0.95        10\n",
            "           5       0.83      1.00      0.91        10\n",
            "           6       1.00      0.50      0.67        10\n",
            "           7       1.00      1.00      1.00        10\n",
            "           8       1.00      1.00      1.00        10\n",
            "           9       1.00      0.90      0.95        10\n",
            "          10       1.00      1.00      1.00        10\n",
            "          11       1.00      1.00      1.00        10\n",
            "          12       1.00      1.00      1.00        10\n",
            "          13       0.83      1.00      0.91        10\n",
            "          14       1.00      0.90      0.95        10\n",
            "          15       1.00      1.00      1.00        10\n",
            "          16       1.00      1.00      1.00        10\n",
            "          17       1.00      1.00      1.00        10\n",
            "          18       0.67      1.00      0.80        10\n",
            "          19       1.00      1.00      1.00        10\n",
            "          20       0.83      1.00      0.91        10\n",
            "          21       0.62      1.00      0.77        10\n",
            "          22       1.00      1.00      1.00        10\n",
            "          23       1.00      1.00      1.00        10\n",
            "          24       1.00      1.00      1.00        10\n",
            "          25       1.00      0.80      0.89        10\n",
            "          26       0.83      1.00      0.91        10\n",
            "          27       1.00      0.70      0.82        10\n",
            "          28       1.00      1.00      1.00        10\n",
            "          29       1.00      0.10      0.18        10\n",
            "          30       1.00      1.00      1.00        10\n",
            "          31       0.62      1.00      0.77        10\n",
            "          32       1.00      1.00      1.00        10\n",
            "          33       1.00      0.90      0.95        10\n",
            "          34       1.00      0.40      0.57        10\n",
            "          35       1.00      1.00      1.00        10\n",
            "          36       0.71      1.00      0.83        10\n",
            "          37       1.00      0.70      0.82        10\n",
            "          38       1.00      1.00      1.00        10\n",
            "          39       1.00      0.70      0.82        10\n",
            "          40       0.91      1.00      0.95        10\n",
            "          41       0.88      0.70      0.78        10\n",
            "          42       0.91      1.00      0.95        10\n",
            "          43       1.00      0.70      0.82        10\n",
            "          44       1.00      0.80      0.89        10\n",
            "          45       1.00      1.00      1.00        10\n",
            "          46       0.59      1.00      0.74        10\n",
            "          47       0.90      0.90      0.90        10\n",
            "          48       1.00      1.00      1.00        10\n",
            "          49       1.00      1.00      1.00        10\n",
            "\n",
            "    accuracy                           0.91       500\n",
            "   macro avg       0.93      0.91      0.90       500\n",
            "weighted avg       0.93      0.91      0.90       500\n",
            "\n"
          ],
          "name": "stdout"
        }
      ]
    }
  ]
}
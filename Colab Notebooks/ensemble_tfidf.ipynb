{
  "nbformat": 4,
  "nbformat_minor": 0,
  "metadata": {
    "kernelspec": {
      "display_name": "Python 3",
      "language": "python",
      "name": "python3"
    },
    "language_info": {
      "codemirror_mode": {
        "name": "ipython",
        "version": 3
      },
      "file_extension": ".py",
      "mimetype": "text/x-python",
      "name": "python",
      "nbconvert_exporter": "python",
      "pygments_lexer": "ipython3",
      "version": "3.7.4"
    },
    "colab": {
      "name": "ensemble-tfidf.ipynb",
      "provenance": [],
      "collapsed_sections": []
    }
  },
  "cells": [
    {
      "cell_type": "markdown",
      "metadata": {
        "id": "fuARM0CxL8j4",
        "colab_type": "text"
      },
      "source": [
        "Mount Google Drive."
      ]
    },
    {
      "cell_type": "code",
      "metadata": {
        "id": "lu8PryWDWZyD",
        "colab_type": "code",
        "outputId": "bdfa4bd5-dcdb-4964-a21a-0c2ed314bfe9",
        "colab": {
          "base_uri": "https://localhost:8080/",
          "height": 122
        }
      },
      "source": [
        "from google.colab import drive\n",
        "drive.mount('/content/gdrive')\n",
        "data_dir = 'gdrive/My Drive/Colab Notebooks/AuthorshipAttribution/data' # @param {type:\"string\"}"
      ],
      "execution_count": 0,
      "outputs": [
        {
          "output_type": "stream",
          "text": [
            "Go to this URL in a browser: https://accounts.google.com/o/oauth2/auth?client_id=947318989803-6bn6qk8qdgf4n4g3pfee6491hc0brc4i.apps.googleusercontent.com&redirect_uri=urn%3aietf%3awg%3aoauth%3a2.0%3aoob&response_type=code&scope=email%20https%3a%2f%2fwww.googleapis.com%2fauth%2fdocs.test%20https%3a%2f%2fwww.googleapis.com%2fauth%2fdrive%20https%3a%2f%2fwww.googleapis.com%2fauth%2fdrive.photos.readonly%20https%3a%2f%2fwww.googleapis.com%2fauth%2fpeopleapi.readonly\n",
            "\n",
            "Enter your authorization code:\n",
            "··········\n",
            "Mounted at /content/gdrive\n"
          ],
          "name": "stdout"
        }
      ]
    },
    {
      "cell_type": "markdown",
      "metadata": {
        "id": "CsOh1s3wyUCf",
        "colab_type": "text"
      },
      "source": [
        "Import stuff."
      ]
    },
    {
      "cell_type": "code",
      "metadata": {
        "id": "iVmEhzPWWm13",
        "colab_type": "code",
        "colab": {}
      },
      "source": [
        "import os\n",
        "import json\n",
        "import codecs\n",
        "import operator\n",
        "import re\n",
        "import string\n",
        "import argparse\n",
        "import numpy as np\n",
        "from collections import defaultdict\n",
        "import pickle"
      ],
      "execution_count": 0,
      "outputs": []
    },
    {
      "cell_type": "code",
      "metadata": {
        "id": "WVIIb3z7WZyI",
        "colab_type": "code",
        "outputId": "34914ff1-6ff5-4192-9f40-2cee8429685b",
        "colab": {
          "base_uri": "https://localhost:8080/",
          "height": 51
        }
      },
      "source": [
        "import nltk\n",
        "from nltk.tokenize import word_tokenize, WordPunctTokenizer,PunktSentenceTokenizer, TreebankWordTokenizer\n",
        "from nltk.corpus import stopwords, webtext\n",
        "from nltk.stem import WordNetLemmatizer, PorterStemmer\n",
        "from nltk.tag import pos_tag\n",
        "from nltk.sentiment.vader import SentimentIntensityAnalyzer"
      ],
      "execution_count": 0,
      "outputs": [
        {
          "output_type": "stream",
          "text": [
            "/usr/local/lib/python3.6/dist-packages/nltk/twitter/__init__.py:20: UserWarning: The twython library has not been installed. Some functionality from the twitter package will not be available.\n",
            "  warnings.warn(\"The twython library has not been installed. \"\n"
          ],
          "name": "stderr"
        }
      ]
    },
    {
      "cell_type": "code",
      "metadata": {
        "id": "g-gb6HLVWZyL",
        "colab_type": "code",
        "colab": {}
      },
      "source": [
        "from sklearn.preprocessing import scale\n",
        "from sklearn import utils\n",
        "from sklearn.feature_extraction.text import TfidfVectorizer, CountVectorizer\n",
        "from sklearn.linear_model import LogisticRegression\n",
        "from sklearn.svm import LinearSVC ,SVC\n",
        "from sklearn import preprocessing\n",
        "from sklearn.multiclass import OneVsRestClassifier\n",
        "from sklearn.calibration import CalibratedClassifierCV"
      ],
      "execution_count": 0,
      "outputs": []
    },
    {
      "cell_type": "markdown",
      "metadata": {
        "id": "bx12WupoyWy_",
        "colab_type": "text"
      },
      "source": [
        "Downloading essential NLTK material."
      ]
    },
    {
      "cell_type": "code",
      "metadata": {
        "id": "cNiLr9_SWZyO",
        "colab_type": "code",
        "outputId": "f85eb789-cfac-4d9f-a230-a6cb77d6a8f3",
        "colab": {
          "base_uri": "https://localhost:8080/",
          "height": 102
        }
      },
      "source": [
        "import nltk\n",
        "nltk.download('webtext')\n",
        "nltk.download('vader_lexicon')\n",
        "nltk.download('stopwords')\n",
        "# tokenize based on punctuation using nltk\n",
        "punk_sent_tokenizer = PunktSentenceTokenizer(webtext.raw('overheard.txt'))\n",
        "\n",
        "# nltk's built-in sentiment analyzer\n",
        "vader = SentimentIntensityAnalyzer()"
      ],
      "execution_count": 0,
      "outputs": [
        {
          "output_type": "stream",
          "text": [
            "[nltk_data] Downloading package webtext to /root/nltk_data...\n",
            "[nltk_data]   Unzipping corpora/webtext.zip.\n",
            "[nltk_data] Downloading package vader_lexicon to /root/nltk_data...\n",
            "[nltk_data] Downloading package stopwords to /root/nltk_data...\n",
            "[nltk_data]   Unzipping corpora/stopwords.zip.\n"
          ],
          "name": "stdout"
        }
      ]
    },
    {
      "cell_type": "markdown",
      "metadata": {
        "id": "u0U2Wwx1yfXH",
        "colab_type": "text"
      },
      "source": [
        "Proprocessing: remove punctuation, remove stopwords, stem the tokens, convert all resulting tokens to lowercase."
      ]
    },
    {
      "cell_type": "code",
      "metadata": {
        "id": "nBqo_74cWZyQ",
        "colab_type": "code",
        "colab": {}
      },
      "source": [
        "# text pre-processing for the tf-idf model\n",
        "def tfidf_Preprocessing(text , _stopwords):\n",
        "    # stemming - using nltk's PorterStemmer\n",
        "    stemmer = PorterStemmer()\n",
        "    text = text.replace('-' , '')\n",
        "    text = text.replace('.' , '')\n",
        "    text = text.replace('”' , '')\n",
        "    text = text.replace('’' , '')\n",
        "    text = text.replace('“' , '')\n",
        "    text = text.replace('‘' , '')\n",
        "    text = text.replace('–','')\n",
        "    nopunc = [char for char in text if char not in string.punctuation]\n",
        "    nopunc = ''.join(nopunc)\n",
        "    return ' '.join([stemmer.stem(word).lower() for word in WordPunctTokenizer().tokenize(nopunc) \n",
        "                    if stemmer.stem(word).lower() not in _stopwords])"
      ],
      "execution_count": 0,
      "outputs": []
    },
    {
      "cell_type": "markdown",
      "metadata": {
        "id": "Fbuk7c9By6rW",
        "colab_type": "text"
      },
      "source": [
        "The following two functions work together to extract the vocabulary from the dataset."
      ]
    },
    {
      "cell_type": "code",
      "metadata": {
        "id": "rmQW0TVVWZyS",
        "colab_type": "code",
        "colab": {}
      },
      "source": [
        "# calculating word frequencies for a review text\n",
        "def tfidf_represent_text(text ):\n",
        "    tokens = WordPunctTokenizer().tokenize(text)\n",
        "    frequency = defaultdict(int)\n",
        "    for token in tokens:\n",
        "        frequency[token] += 1\n",
        "    return frequency"
      ],
      "execution_count": 0,
      "outputs": []
    },
    {
      "cell_type": "code",
      "metadata": {
        "id": "OEJXfFsAWZyV",
        "colab_type": "code",
        "colab": {}
      },
      "source": [
        "# constructing word vocabulary from texts - calculating word frequencies and storing them in dictionaries\n",
        "def tfidf_extract_vocabulary(texts , ft):\n",
        "    occurrences=defaultdict(int)\n",
        "    for text in texts:\n",
        "        text_occurrences=tfidf_represent_text(text)\n",
        "        for ngram in text_occurrences:\n",
        "            if ngram in occurrences:\n",
        "                occurrences[ngram]+=text_occurrences[ngram]\n",
        "            else:\n",
        "                occurrences[ngram]=text_occurrences[ngram]\n",
        "    vocabulary=[]\n",
        "    for i in occurrences.keys():\n",
        "        if occurrences[i]>=ft:\n",
        "            vocabulary.append(i)\n",
        "    return vocabulary"
      ],
      "execution_count": 0,
      "outputs": []
    },
    {
      "cell_type": "markdown",
      "metadata": {
        "id": "SZFqvhoAzVFw",
        "colab_type": "text"
      },
      "source": [
        "We use the MaxAbsScaler to scale each feature by its Maximum Absolute Value. It translates each feature individually such that the maximal absolute value of each feature in the training set will be 1.0. It does not shift/center the data, and thus does not destroy any sparsity."
      ]
    },
    {
      "cell_type": "code",
      "metadata": {
        "id": "QqkdPe0lWZyX",
        "colab_type": "code",
        "colab": {}
      },
      "source": [
        "max_abs_scaler = preprocessing.MaxAbsScaler()\n",
        "stopwords_list = {'en': set(stopwords.words('english')) , 'fr':set(stopwords.words('french')),\n",
        "                  'sp': set(stopwords.words('spanish')) , 'it':set(stopwords.words('italian'))}"
      ],
      "execution_count": 0,
      "outputs": []
    },
    {
      "cell_type": "markdown",
      "metadata": {
        "id": "eFtnA1k807av",
        "colab_type": "text"
      },
      "source": [
        "Load the training and testing data and preprocess them."
      ]
    },
    {
      "cell_type": "code",
      "metadata": {
        "id": "883VDqldWZyZ",
        "colab_type": "code",
        "colab": {}
      },
      "source": [
        "# placeholders for training and testing data\n",
        "train_set , train_labels = [], []\n",
        "test_set , test_labels = [] , []\n",
        "\n",
        "# reading training and testing data from pickle files\n",
        "train_data, test_data = None, None\n",
        "with open(data_dir + \"/train_data.pickle\", \"rb\") as f:\n",
        "    train_data = pickle.load(f)\n",
        "with open(data_dir + \"/test_data.pickle\", \"rb\") as f:\n",
        "    test_data = pickle.load(f)\n",
        "\n",
        "# populating training and testing placeholders with data\n",
        "train_set = train_data['train_texts']\n",
        "train_labels = train_data['train_labels']\n",
        "test_set = test_data['test_texts']\n",
        "test_labels = test_data['test_labels']"
      ],
      "execution_count": 0,
      "outputs": []
    },
    {
      "cell_type": "code",
      "metadata": {
        "id": "JPhdi4oJWZyc",
        "colab_type": "code",
        "colab": {}
      },
      "source": [
        "def get_chunks(l, n):\n",
        "    n = max(1, n)\n",
        "    return [l[i:i+n] for i in range(0, len(l), n)]\n",
        "\n",
        "from statistics import mean\n",
        "word_counts = [text.count(\" \") for text in test_set]\n",
        "mean(word_counts)\n",
        "\n",
        "# 182 words is quite short\n",
        "# Try to join 5 tests texts together\n",
        "longer_test_texts = get_chunks(test_set, 5)\n",
        "longer_test_labels = get_chunks(test_labels, 5)\n",
        "\n",
        "all([len(set(x)) == 1 for x in longer_test_labels])  # Make sure that all combined labels are the same\n",
        "\n",
        "test_set = ['\\n'.join(chunk) for chunk in longer_test_texts]\n",
        "test_labels = [chunk[0] for chunk in longer_test_labels]"
      ],
      "execution_count": 0,
      "outputs": []
    },
    {
      "cell_type": "code",
      "metadata": {
        "id": "dbgLM1LtWZye",
        "colab_type": "code",
        "colab": {}
      },
      "source": [
        "author_dict = {}\n",
        "n_parts = 10\n",
        "for review, author in zip(train_set, train_labels):\n",
        "    n_chars = len(review) // n_parts\n",
        "    author_dict[author] = [review[i:i+n_chars] for i in range(0, len(review), n_chars)]\n",
        "\n",
        "new_train_set, new_train_labels = [], []\n",
        "for author, reviews in author_dict.items():\n",
        "    new_train_set.extend(reviews)\n",
        "    new_train_labels.extend([author] * len(reviews))\n",
        "\n",
        "# for author, reviews in author_dict.items():\n",
        "#     print('author: {}\\t\\tnum_reviews: {}'.format(author, len(reviews)))\n",
        "# print('len(new_train_set): {}\\t\\tlen(new_train_labels): {}'.format(len(new_train_set), len(new_train_labels)))\n",
        "\n",
        "train_set = new_train_set\n",
        "train_labels = new_train_labels"
      ],
      "execution_count": 0,
      "outputs": []
    },
    {
      "cell_type": "code",
      "metadata": {
        "id": "L8p9KIZqWZyh",
        "colab_type": "code",
        "colab": {}
      },
      "source": [
        "# converting the text into tf-idf vectors\n",
        "tfidf_train_set = [tfidf_Preprocessing(text , stopwords_list['en']) \n",
        "                for text in train_set]\n",
        "tfidf_test_set = [tfidf_Preprocessing(text , stopwords_list['en'])\n",
        "                for text in test_set]"
      ],
      "execution_count": 0,
      "outputs": []
    },
    {
      "cell_type": "code",
      "metadata": {
        "id": "UjjNns0fWZyj",
        "colab_type": "code",
        "outputId": "ce9f2a1b-1dcd-4060-d911-dd6428fbe4cd",
        "colab": {
          "base_uri": "https://localhost:8080/",
          "height": 34
        }
      },
      "source": [
        "len(test_set)"
      ],
      "execution_count": 0,
      "outputs": [
        {
          "output_type": "execute_result",
          "data": {
            "text/plain": [
              "500"
            ]
          },
          "metadata": {
            "tags": []
          },
          "execution_count": 15
        }
      ]
    },
    {
      "cell_type": "markdown",
      "metadata": {
        "id": "q2O2wB8j9cG3",
        "colab_type": "text"
      },
      "source": [
        "Set hyperparameters here."
      ]
    },
    {
      "cell_type": "code",
      "metadata": {
        "id": "NRCohkU2WZyn",
        "colab_type": "code",
        "colab": {}
      },
      "source": [
        "# hyperparameters\n",
        "ft = 5          # low frequency threshold. only n-grams of frequency >= ft are added to the vocabulary"
      ],
      "execution_count": 0,
      "outputs": []
    },
    {
      "cell_type": "code",
      "metadata": {
        "id": "JALkHlIwWZyp",
        "colab_type": "code",
        "colab": {}
      },
      "source": [
        "# training and predicting using tf-idf model (which uses linear SVC)\n",
        "tfidf_vocab = tfidf_extract_vocabulary(tfidf_train_set , ft )\n",
        "tfidf_vectorizer = TfidfVectorizer(vocabulary=tfidf_vocab, norm=None, strip_accents=False)"
      ],
      "execution_count": 0,
      "outputs": []
    },
    {
      "cell_type": "code",
      "metadata": {
        "id": "eRMlMQJXWZys",
        "colab_type": "code",
        "colab": {}
      },
      "source": [
        "tfidf_train_data = tfidf_vectorizer.fit_transform(tfidf_train_set)\n",
        "tfidf_test_data = tfidf_vectorizer.fit_transform(tfidf_test_set)"
      ],
      "execution_count": 0,
      "outputs": []
    },
    {
      "cell_type": "code",
      "metadata": {
        "id": "DxzuIeYOWZyu",
        "colab_type": "code",
        "colab": {}
      },
      "source": [
        "tfidf_scaled_train_data = max_abs_scaler.fit_transform(tfidf_train_data)\n",
        "tfidf_scaled_test_data = max_abs_scaler.transform(tfidf_test_data)"
      ],
      "execution_count": 0,
      "outputs": []
    },
    {
      "cell_type": "markdown",
      "metadata": {
        "id": "qFwwrOQa2K86",
        "colab_type": "text"
      },
      "source": [
        "Fit the vectorized training data to a LinearSVC model, abd predict on the vectorized test data."
      ]
    },
    {
      "cell_type": "code",
      "metadata": {
        "id": "bm3F2kgYWZyw",
        "colab_type": "code",
        "outputId": "94c0e941-b31e-4668-cbd3-dd1178afc32b",
        "colab": {
          "base_uri": "https://localhost:8080/",
          "height": 51
        }
      },
      "source": [
        "tfidf_clf = CalibratedClassifierCV(OneVsRestClassifier(LinearSVC(C=0.01)))\n",
        "tfidf_clf.fit(tfidf_scaled_train_data, train_labels)\n",
        "tfidf_predictions = tfidf_clf.predict(tfidf_scaled_test_data)\n",
        "tfidf_proba = tfidf_clf.predict_proba(tfidf_scaled_test_data)"
      ],
      "execution_count": 0,
      "outputs": [
        {
          "output_type": "stream",
          "text": [
            "/usr/local/lib/python3.6/dist-packages/sklearn/model_selection/_split.py:1978: FutureWarning: The default value of cv will change from 3 to 5 in version 0.22. Specify it explicitly to silence this warning.\n",
            "  warnings.warn(CV_WARNING, FutureWarning)\n"
          ],
          "name": "stderr"
        }
      ]
    },
    {
      "cell_type": "markdown",
      "metadata": {
        "id": "DWaQosh72ayj",
        "colab_type": "text"
      },
      "source": [
        "Compute accuracy."
      ]
    },
    {
      "cell_type": "code",
      "metadata": {
        "id": "eut_Um93WZyz",
        "colab_type": "code",
        "outputId": "23dd3333-25eb-49dd-aef2-d05c7b53f572",
        "colab": {
          "base_uri": "https://localhost:8080/",
          "height": 34
        }
      },
      "source": [
        "from sklearn.metrics import accuracy_score\n",
        "accuracy_score(test_labels, tfidf_predictions)"
      ],
      "execution_count": 0,
      "outputs": [
        {
          "output_type": "execute_result",
          "data": {
            "text/plain": [
              "0.958"
            ]
          },
          "metadata": {
            "tags": []
          },
          "execution_count": 22
        }
      ]
    }
  ]
}